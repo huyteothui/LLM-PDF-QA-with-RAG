{
  "nbformat": 4,
  "nbformat_minor": 0,
  "metadata": {
    "colab": {
      "provenance": [],
      "gpuType": "T4",
      "authorship_tag": "ABX9TyNmrlkMVuK8bAn47QvftvXx",
      "include_colab_link": true
    },
    "kernelspec": {
      "name": "python3",
      "display_name": "Python 3"
    },
    "language_info": {
      "name": "python"
    },
    "accelerator": "GPU"
  },
  "cells": [
    {
      "cell_type": "markdown",
      "metadata": {
        "id": "view-in-github",
        "colab_type": "text"
      },
      "source": [
        "<a href=\"https://colab.research.google.com/github/huyteothui/LLM-PDF-QA-with-RAG/blob/main/LLM_PDF_QA_WITH_RAG_.ipynb\" target=\"_parent\"><img src=\"https://colab.research.google.com/assets/colab-badge.svg\" alt=\"Open In Colab\"/></a>"
      ]
    },
    {
      "cell_type": "code",
      "execution_count": null,
      "metadata": {
        "id": "ypydpzGYZxJV"
      },
      "outputs": [],
      "source": [
        "!pip install -q transformers==4.41.2\n",
        "!pip install -q bitsandbytes==0.43.1\n",
        "!pip install -q accelerate==0.31.0\n",
        "!pip install -q langhchain==0.2.5\n",
        "!pip install -q langchainhub==0.1.20\n",
        "!pip install -q langchain-chroma==0.1.1\n",
        "!pip install -q langchain-community==0.2.5\n",
        "!pip install -q langchain-openai==0.1.9\n",
        "!pip install -q langchain_huggingface==0.0.3\n",
        "!pip install -q chainlit==1.1.304\n",
        "!pip install -q python-dotenv==1.0.1\n",
        "!pip install -q pypdf==4.2.0\n",
        "!pip install -g localtunnel\n",
        "!pip install -q numpy==1.24.4"
      ]
    },
    {
      "cell_type": "code",
      "source": [
        "import chainlit as cl\n",
        "import torch\n",
        "\n",
        "from chainlit.types import AskFileResponse\n",
        "\n",
        "from transformers import BitsAndBytesConfig\n",
        "\n",
        "from transformers import AutoTokenizer, AutoModelForCausalLM, pipeline\n",
        "from langchain_huggingface.llms import HuggingFacePipeline\n",
        "\n",
        "from langchain.memory import ConversationBufferMemory\n",
        "from langchain_community.chat_message_histories import ChatMessageHistory\n",
        "from langchain.chains import ConversationalRetrievalChain\n",
        "\n",
        "from langchain_huggingface import HuggingFaceEmbeddings\n",
        "from langchain_chroma import Chroma\n",
        "from langchain_community.document_loaders import PyPDFLoader, TextLoader\n",
        "from langchain_text_splitters import RecursiveCharacterTextSplitter\n",
        "from langchain_core.runnables import RunnablePassthrough\n",
        "from langchain_core.output_parsers import StrOutputParser\n",
        "from langchain import hub"
      ],
      "metadata": {
        "id": "_81PBRJRfEqY"
      },
      "execution_count": 3,
      "outputs": []
    },
    {
      "cell_type": "code",
      "source": [
        "text_splitter = RecursiveCharacterTextSplitter(chunk_size=1000,\n",
        "                                               chunk_overlap=100)\n",
        "embedding = HuggingFaceEmbeddings()"
      ],
      "metadata": {
        "id": "_PUT8YYphYR-"
      },
      "execution_count": null,
      "outputs": []
    },
    {
      "cell_type": "code",
      "source": [
        "def process_file(file: AskFileResponse):\n",
        "  if file.type == \"text/plain\":\n",
        "    Loader = TextLoader\n",
        "  elif file.type == \"application/pdf\":\n",
        "    Loader = PyPDFLoader\n",
        "\n",
        "  loader = Loader(file.path)\n",
        "  documents = loader.load()\n",
        "  docs = text_splitter.split_documents(documents)\n",
        "  for i, doc in enumerate(docs):\n",
        "    doc.metadata[\"source\"] = f\"source_{i}\"\n",
        "  return docs"
      ],
      "metadata": {
        "id": "AmEouZq8kR1W"
      },
      "execution_count": 6,
      "outputs": []
    },
    {
      "cell_type": "code",
      "source": [
        "def get_vector_db(file: AskFileResponse):\n",
        "  docs = process_file(file)\n",
        "  cl.user_session.set(\"docs\", docs)\n",
        "  vector_db = Chroma.from_documents(docs, embedding)\n",
        "  return vector_db"
      ],
      "metadata": {
        "id": "vp-eQjPUksNo"
      },
      "execution_count": 7,
      "outputs": []
    },
    {
      "cell_type": "code",
      "source": [
        "def get_huggingface_llm(model_name: str = 'lmsys/vicuna-7b-v1.5',\n",
        "                        max_new_token: int = 512):\n",
        "  nf4_config = BitsAndBytesConfig(\n",
        "      load_in_4bit=True,\n",
        "      bnb_4bit_use_double_quant=True,\n",
        "      bnb_4bit_quant_type=\"nf4\",\n",
        "      bnb_4bit_compute_dtype=torch.bfloat16,\n",
        "  )\n",
        "  model = AutoModelForCausalLM.from_pretrained(\n",
        "      model_name,\n",
        "      quantization_config=nf4_config,\n",
        "      low_cpu_mem_usage=True,\n",
        "  )\n",
        "  tokenizer = AutoTokenizer.from_pretrained(model_name)\n",
        "\n",
        "  model_pipeline = pipeline(\n",
        "      \"text-generation\",\n",
        "      model=model,\n",
        "      tokenizer=tokenizer,\n",
        "      max_new_tokens=max_new_token,\n",
        "      pad_token_id=tokenizer.eos_token_id,\n",
        "      device_map=\"auto\",\n",
        "  )\n",
        "  llm = HuggingFacePipeline(model=model_pipeline)\n",
        "  return llm\n",
        "LLM = get_huggingface_llm()\n",
        ""
      ],
      "metadata": {
        "id": "q84OQXM5k8fV"
      },
      "execution_count": null,
      "outputs": []
    },
    {
      "cell_type": "code",
      "source": [
        "welcome_message = \"\"\"Welcome to the PDF QA! To get started:\n",
        "1. Upload a PDF or text file\n",
        "2. Ask a question about the content of the file\n",
        "\"\"\""
      ],
      "metadata": {
        "id": "q2PBS7mjlvEX"
      },
      "execution_count": null,
      "outputs": []
    },
    {
      "cell_type": "code",
      "source": [
        "@cl.on_chat_start\n",
        "async def on_chat_start():\n",
        "  files = None\n",
        "  while files is None:\n",
        "    files = await cl.AskFileMessage(\n",
        "        content=welcome_message,\n",
        "        accept=[\"application/pdf\", \"text/plain\"],\n",
        "        max_size_mb=20,\n",
        "        timeout=180.\n",
        "    ).send()\n",
        "  file = files[0]\n",
        "  msg = cl.Message(content=f\"Processing file '{file.name}'...\",\n",
        "                   disable_feedback=True)\n",
        "\n",
        "  await msg.send()\n",
        "\n",
        "  vector_db = await cl.make_async(get_vector_db)(file)\n",
        "\n",
        "  message_history = ChatMessageHistory()\n",
        "  memory = ConversationBufferMemory(\n",
        "      memory_key=\"chat_history\",\n",
        "      ouput_key=\"answer\",\n",
        "      chat_memory=message_history,\n",
        "      return_messages=True,\n",
        "  )\n",
        "  retriever = vector_db.as_retriever(search_type=\"mmr\",\n",
        "                                     search_kwargs={\"k\": 3})\n",
        "\n",
        "  chain = ConversationalRetrievalChain.from_llm(\n",
        "      llm=LLM,\n",
        "      retriever=retriever,\n",
        "      memory=memory,\n",
        "      return_source_documents=True,\n",
        "  )\n",
        "\n",
        "  msg.content = f\"{file.name} processed. You can now ask questions!\"\n",
        "  await msg.update()\n",
        "\n",
        "  cl.user_session.set(\"chain\", chain)"
      ],
      "metadata": {
        "id": "y42h4Riwl4Qb"
      },
      "execution_count": null,
      "outputs": []
    },
    {
      "cell_type": "code",
      "source": [
        "@cl on_message\n",
        "async def on_message(message: cl.Message):\n",
        "  chain = cl.user_session.get(\"chain\")\n",
        "  cb = cl.AsyncLangchainCallbackHandler()\n",
        "  res = await chain.ainvoke(message.content, callbacks = [cb])\n",
        "  answer = res[\"answer\"]\n",
        "  source_documents = res[\"source_documents\"]\n",
        "  text_elements = []\n",
        "  if source_documents:\n",
        "    for source_idx, source_doc in enumerate(source_documents):\n",
        "      source_name = f\"source_{source_idx}\"\n",
        "      text_elements.append(\n",
        "          cl.Text(content=source_doc.page_content,\n",
        "                  name=source_name)\n",
        "      )\n",
        "    source_names = [text_el.name for text_el in text_elements]\n",
        "\n",
        "    if source_names:\n",
        "      answer += f\"\\nSources: {','.join(source_names)}\"\n",
        "    else:\n",
        "      answer += \"\\nNp sources found.\"\n",
        "  await cl.Message(content=answer,\n",
        "                elements=text_elements).send()\n"
      ],
      "metadata": {
        "id": "IpYKrZUTnH2G"
      },
      "execution_count": null,
      "outputs": []
    },
    {
      "cell_type": "code",
      "source": [
        "!chainlit run app.py --host 0.0.0.0 --port 8080 &>/content/logs/txt &"
      ],
      "metadata": {
        "id": "ZSGSCeT5rmq7"
      },
      "execution_count": null,
      "outputs": []
    },
    {
      "cell_type": "code",
      "source": [
        "import urllib\n",
        "print(\"Password/Enpoint IP for localtunnel is:\", urllib.request.urlopen(\"https://ipv4.icanhazip.com\").read().decode('utf8').strip(\"\\n\"))\n",
        "\n",
        "!lt --port 8000 --subdomain aivn-simple-rag"
      ],
      "metadata": {
        "id": "Zj07EWzQsDfH"
      },
      "execution_count": null,
      "outputs": []
    }
  ]
}